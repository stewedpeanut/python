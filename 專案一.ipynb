{
  "nbformat": 4,
  "nbformat_minor": 0,
  "metadata": {
    "colab": {
      "name": "專案一.ipynb",
      "provenance": [],
      "collapsed_sections": [],
      "authorship_tag": "ABX9TyO+9R8UwitzHhXWeOR2FtYz",
      "include_colab_link": true
    },
    "kernelspec": {
      "name": "python3",
      "display_name": "Python 3"
    },
    "language_info": {
      "name": "python"
    }
  },
  "cells": [
    {
      "cell_type": "markdown",
      "metadata": {
        "id": "view-in-github",
        "colab_type": "text"
      },
      "source": [
        "<a href=\"https://colab.research.google.com/github/stewedpeanut/python/blob/main/%E5%B0%88%E6%A1%88%E4%B8%80.ipynb\" target=\"_parent\"><img src=\"https://colab.research.google.com/assets/colab-badge.svg\" alt=\"Open In Colab\"/></a>"
      ]
    },
    {
      "cell_type": "code",
      "execution_count": 1,
      "metadata": {
        "id": "7q9Cs31nW7RJ"
      },
      "outputs": [],
      "source": [
        "import numpy as np\n",
        "import pandas as pd\n",
        "import matplotlib.pyplot as plt\n"
      ]
    },
    {
      "cell_type": "code",
      "source": [
        "from google.colab import drive\n",
        "drive.mount('/content/drive')"
      ],
      "metadata": {
        "colab": {
          "base_uri": "https://localhost:8080/"
        },
        "id": "NyOTxDevW-vg",
        "outputId": "b3c6c60e-2edc-444d-d637-136480040aff"
      },
      "execution_count": 2,
      "outputs": [
        {
          "output_type": "stream",
          "name": "stdout",
          "text": [
            "Mounted at /content/drive\n"
          ]
        }
      ]
    },
    {
      "cell_type": "code",
      "source": [
        "path='/content/drive/MyDrive/暑密班/Stores.csv'\n",
        "da= pd.read_csv(path)\n"
      ],
      "metadata": {
        "id": "3VgWyMFdXP_E"
      },
      "execution_count": 3,
      "outputs": []
    },
    {
      "cell_type": "code",
      "source": [
        "da.head(10)\n",
        "da.describe()"
      ],
      "metadata": {
        "colab": {
          "base_uri": "https://localhost:8080/",
          "height": 300
        },
        "id": "SThjfjheXs7j",
        "outputId": "86059170-d912-4953-abff-85be55d8fcf2"
      },
      "execution_count": 15,
      "outputs": [
        {
          "output_type": "execute_result",
          "data": {
            "text/plain": [
              "        Store ID    Store_Area  Items_Available  Daily_Customer_Count  \\\n",
              "count  896.000000   896.000000       896.000000            896.000000   \n",
              "mean   448.500000  1485.409598      1782.035714            786.350446   \n",
              "std    258.797218   250.237011       299.872053            265.389281   \n",
              "min      1.000000   775.000000       932.000000             10.000000   \n",
              "25%    224.750000  1316.750000      1575.500000            600.000000   \n",
              "50%    448.500000  1477.000000      1773.500000            780.000000   \n",
              "75%    672.250000  1653.500000      1982.750000            970.000000   \n",
              "max    896.000000  2229.000000      2667.000000           1560.000000   \n",
              "\n",
              "         Store_Sales  \n",
              "count     896.000000  \n",
              "mean    59351.305804  \n",
              "std     17190.741895  \n",
              "min     14920.000000  \n",
              "25%     46530.000000  \n",
              "50%     58605.000000  \n",
              "75%     71872.500000  \n",
              "max    116320.000000  "
            ],
            "text/html": [
              "\n",
              "  <div id=\"df-f8e7ba41-f9e1-4cef-901b-698e5cb39f40\">\n",
              "    <div class=\"colab-df-container\">\n",
              "      <div>\n",
              "<style scoped>\n",
              "    .dataframe tbody tr th:only-of-type {\n",
              "        vertical-align: middle;\n",
              "    }\n",
              "\n",
              "    .dataframe tbody tr th {\n",
              "        vertical-align: top;\n",
              "    }\n",
              "\n",
              "    .dataframe thead th {\n",
              "        text-align: right;\n",
              "    }\n",
              "</style>\n",
              "<table border=\"1\" class=\"dataframe\">\n",
              "  <thead>\n",
              "    <tr style=\"text-align: right;\">\n",
              "      <th></th>\n",
              "      <th>Store ID</th>\n",
              "      <th>Store_Area</th>\n",
              "      <th>Items_Available</th>\n",
              "      <th>Daily_Customer_Count</th>\n",
              "      <th>Store_Sales</th>\n",
              "    </tr>\n",
              "  </thead>\n",
              "  <tbody>\n",
              "    <tr>\n",
              "      <th>count</th>\n",
              "      <td>896.000000</td>\n",
              "      <td>896.000000</td>\n",
              "      <td>896.000000</td>\n",
              "      <td>896.000000</td>\n",
              "      <td>896.000000</td>\n",
              "    </tr>\n",
              "    <tr>\n",
              "      <th>mean</th>\n",
              "      <td>448.500000</td>\n",
              "      <td>1485.409598</td>\n",
              "      <td>1782.035714</td>\n",
              "      <td>786.350446</td>\n",
              "      <td>59351.305804</td>\n",
              "    </tr>\n",
              "    <tr>\n",
              "      <th>std</th>\n",
              "      <td>258.797218</td>\n",
              "      <td>250.237011</td>\n",
              "      <td>299.872053</td>\n",
              "      <td>265.389281</td>\n",
              "      <td>17190.741895</td>\n",
              "    </tr>\n",
              "    <tr>\n",
              "      <th>min</th>\n",
              "      <td>1.000000</td>\n",
              "      <td>775.000000</td>\n",
              "      <td>932.000000</td>\n",
              "      <td>10.000000</td>\n",
              "      <td>14920.000000</td>\n",
              "    </tr>\n",
              "    <tr>\n",
              "      <th>25%</th>\n",
              "      <td>224.750000</td>\n",
              "      <td>1316.750000</td>\n",
              "      <td>1575.500000</td>\n",
              "      <td>600.000000</td>\n",
              "      <td>46530.000000</td>\n",
              "    </tr>\n",
              "    <tr>\n",
              "      <th>50%</th>\n",
              "      <td>448.500000</td>\n",
              "      <td>1477.000000</td>\n",
              "      <td>1773.500000</td>\n",
              "      <td>780.000000</td>\n",
              "      <td>58605.000000</td>\n",
              "    </tr>\n",
              "    <tr>\n",
              "      <th>75%</th>\n",
              "      <td>672.250000</td>\n",
              "      <td>1653.500000</td>\n",
              "      <td>1982.750000</td>\n",
              "      <td>970.000000</td>\n",
              "      <td>71872.500000</td>\n",
              "    </tr>\n",
              "    <tr>\n",
              "      <th>max</th>\n",
              "      <td>896.000000</td>\n",
              "      <td>2229.000000</td>\n",
              "      <td>2667.000000</td>\n",
              "      <td>1560.000000</td>\n",
              "      <td>116320.000000</td>\n",
              "    </tr>\n",
              "  </tbody>\n",
              "</table>\n",
              "</div>\n",
              "      <button class=\"colab-df-convert\" onclick=\"convertToInteractive('df-f8e7ba41-f9e1-4cef-901b-698e5cb39f40')\"\n",
              "              title=\"Convert this dataframe to an interactive table.\"\n",
              "              style=\"display:none;\">\n",
              "        \n",
              "  <svg xmlns=\"http://www.w3.org/2000/svg\" height=\"24px\"viewBox=\"0 0 24 24\"\n",
              "       width=\"24px\">\n",
              "    <path d=\"M0 0h24v24H0V0z\" fill=\"none\"/>\n",
              "    <path d=\"M18.56 5.44l.94 2.06.94-2.06 2.06-.94-2.06-.94-.94-2.06-.94 2.06-2.06.94zm-11 1L8.5 8.5l.94-2.06 2.06-.94-2.06-.94L8.5 2.5l-.94 2.06-2.06.94zm10 10l.94 2.06.94-2.06 2.06-.94-2.06-.94-.94-2.06-.94 2.06-2.06.94z\"/><path d=\"M17.41 7.96l-1.37-1.37c-.4-.4-.92-.59-1.43-.59-.52 0-1.04.2-1.43.59L10.3 9.45l-7.72 7.72c-.78.78-.78 2.05 0 2.83L4 21.41c.39.39.9.59 1.41.59.51 0 1.02-.2 1.41-.59l7.78-7.78 2.81-2.81c.8-.78.8-2.07 0-2.86zM5.41 20L4 18.59l7.72-7.72 1.47 1.35L5.41 20z\"/>\n",
              "  </svg>\n",
              "      </button>\n",
              "      \n",
              "  <style>\n",
              "    .colab-df-container {\n",
              "      display:flex;\n",
              "      flex-wrap:wrap;\n",
              "      gap: 12px;\n",
              "    }\n",
              "\n",
              "    .colab-df-convert {\n",
              "      background-color: #E8F0FE;\n",
              "      border: none;\n",
              "      border-radius: 50%;\n",
              "      cursor: pointer;\n",
              "      display: none;\n",
              "      fill: #1967D2;\n",
              "      height: 32px;\n",
              "      padding: 0 0 0 0;\n",
              "      width: 32px;\n",
              "    }\n",
              "\n",
              "    .colab-df-convert:hover {\n",
              "      background-color: #E2EBFA;\n",
              "      box-shadow: 0px 1px 2px rgba(60, 64, 67, 0.3), 0px 1px 3px 1px rgba(60, 64, 67, 0.15);\n",
              "      fill: #174EA6;\n",
              "    }\n",
              "\n",
              "    [theme=dark] .colab-df-convert {\n",
              "      background-color: #3B4455;\n",
              "      fill: #D2E3FC;\n",
              "    }\n",
              "\n",
              "    [theme=dark] .colab-df-convert:hover {\n",
              "      background-color: #434B5C;\n",
              "      box-shadow: 0px 1px 3px 1px rgba(0, 0, 0, 0.15);\n",
              "      filter: drop-shadow(0px 1px 2px rgba(0, 0, 0, 0.3));\n",
              "      fill: #FFFFFF;\n",
              "    }\n",
              "  </style>\n",
              "\n",
              "      <script>\n",
              "        const buttonEl =\n",
              "          document.querySelector('#df-f8e7ba41-f9e1-4cef-901b-698e5cb39f40 button.colab-df-convert');\n",
              "        buttonEl.style.display =\n",
              "          google.colab.kernel.accessAllowed ? 'block' : 'none';\n",
              "\n",
              "        async function convertToInteractive(key) {\n",
              "          const element = document.querySelector('#df-f8e7ba41-f9e1-4cef-901b-698e5cb39f40');\n",
              "          const dataTable =\n",
              "            await google.colab.kernel.invokeFunction('convertToInteractive',\n",
              "                                                     [key], {});\n",
              "          if (!dataTable) return;\n",
              "\n",
              "          const docLinkHtml = 'Like what you see? Visit the ' +\n",
              "            '<a target=\"_blank\" href=https://colab.research.google.com/notebooks/data_table.ipynb>data table notebook</a>'\n",
              "            + ' to learn more about interactive tables.';\n",
              "          element.innerHTML = '';\n",
              "          dataTable['output_type'] = 'display_data';\n",
              "          await google.colab.output.renderOutput(dataTable, element);\n",
              "          const docLink = document.createElement('div');\n",
              "          docLink.innerHTML = docLinkHtml;\n",
              "          element.appendChild(docLink);\n",
              "        }\n",
              "      </script>\n",
              "    </div>\n",
              "  </div>\n",
              "  "
            ]
          },
          "metadata": {},
          "execution_count": 15
        }
      ]
    },
    {
      "cell_type": "code",
      "source": [
        "\n",
        "q1 = da.loc[da[\"Store_Area\"] <= 1316] #商店面積的第一四分衛距\n",
        "q2 = da.loc[da[\"Store_Area\"] <= 1477]\n",
        "q3 = da.loc[da[\"Store_Area\"] <= 1653]\n",
        "q4 = da.loc[da[\"Store_Area\"] > 1653]\n",
        "\n",
        "sale_area = [q1[\"Store_Sales\"].sum(),q2[\"Store_Sales\"].sum(),q3[\"Store_Sales\"].sum(),q4[\"Store_Sales\"].sum()]\n",
        "print(sale_area)"
      ],
      "metadata": {
        "colab": {
          "base_uri": "https://localhost:8080/"
        },
        "id": "LbVYW2MyZikc",
        "outputId": "306a0724-62a5-4c17-f567-e9148227042e"
      },
      "execution_count": 5,
      "outputs": [
        {
          "output_type": "stream",
          "name": "stdout",
          "text": [
            "[13095860, 26115090, 39409750, 13769020]\n"
          ]
        }
      ]
    },
    {
      "cell_type": "code",
      "source": [
        "area_id = ['small', 'medium', 'relative large', 'large']\n",
        "plt.bar(area_id,sale_area,color='green', width=0.5)\n",
        "plt.title('store area and sales amount')\n",
        "plt.ylabel('sale amount')\n",
        "plt.xlabel('store scale')\n",
        "#商店面積和營業額的關係"
      ],
      "metadata": {
        "colab": {
          "base_uri": "https://localhost:8080/",
          "height": 312
        },
        "id": "urNlegSwdN66",
        "outputId": "f179ae9b-37e9-4a0e-aca6-0abaf4d52b80"
      },
      "execution_count": 16,
      "outputs": [
        {
          "output_type": "execute_result",
          "data": {
            "text/plain": [
              "Text(0.5, 0, 'store scale')"
            ]
          },
          "metadata": {},
          "execution_count": 16
        },
        {
          "output_type": "display_data",
          "data": {
            "text/plain": [
              "<Figure size 432x288 with 1 Axes>"
            ],
            "image/png": "[encoded data removed]"
          },
          "metadata": {
            "needs_background": "light"
          }
        }
      ]
    },
    {
      "cell_type": "code",
      "source": [
        "x = da[\"Store_Area\"]\n",
        "y = da['Items_Available']\n",
        "plt.scatter(x,y,marker='s',c='b',s = 2)\n",
        "plt.xlabel('store_area')\n",
        "plt.ylabel('items_available')\n",
        "#商店面積和商品品項數量高度正相關"
      ],
      "metadata": {
        "colab": {
          "base_uri": "https://localhost:8080/",
          "height": 300
        },
        "id": "oj-D4XxIIhGL",
        "outputId": "3d0d0991-7009-4ee8-962a-dcba89707192"
      },
      "execution_count": 9,
      "outputs": [
        {
          "output_type": "execute_result",
          "data": {
            "text/plain": [
              "Text(0, 0.5, 'items_available')"
            ]
          },
          "metadata": {},
          "execution_count": 9
        },
        {
          "output_type": "display_data",
          "data": {
            "text/plain": [
              "<Figure size 432x288 with 1 Axes>"
            ],
            "image/png": "[encoded data removed]"
          },
          "metadata": {
            "needs_background": "light"
          }
        }
      ]
    },
    {
      "cell_type": "code",
      "source": [
        ""
      ],
      "metadata": {
        "id": "vIgNp5T2MW3h"
      },
      "execution_count": null,
      "outputs": []
    },
    {
      "cell_type": "code",
      "source": [
        "len(q1)\n",
        "store_amount=[len(q1),len(q2),len(q3),len(q4)]\n",
        "plt.pie(store_amount,labels=area_id)\n",
        "plt.legend(bbox_to_anchor=(-0.05, 1))\n",
        "plt.title('pie chart of store area',fontsize = 16)"
      ],
      "metadata": {
        "colab": {
          "base_uri": "https://localhost:8080/",
          "height": 283
        },
        "id": "OmbFEWnZMb4J",
        "outputId": "2a916f58-7553-48e0-e883-5a372c72d8ac"
      },
      "execution_count": null,
      "outputs": [
        {
          "output_type": "execute_result",
          "data": {
            "text/plain": [
              "Text(0.5, 1.0, 'pie chart of store area')"
            ]
          },
          "metadata": {},
          "execution_count": 34
        },
        {
          "output_type": "display_data",
          "data": {
            "text/plain": [
              "<Figure size 432x288 with 1 Axes>"
            ],
            "image/png": "[encoded data removed]"
          },
          "metadata": {}
        }
      ]
    }
  ]
}