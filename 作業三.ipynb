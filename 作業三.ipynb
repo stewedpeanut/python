{
  "nbformat": 4,
  "nbformat_minor": 0,
  "metadata": {
    "colab": {
      "name": "0803作業.ipynb",
      "provenance": []
    },
    "kernelspec": {
      "name": "python3",
      "display_name": "Python 3"
    },
    "language_info": {
      "name": "python"
    }
  },
  "cells": [
    {
      "cell_type": "code",
      "execution_count": null,
      "metadata": {
        "colab": {
          "base_uri": "https://localhost:8080/"
        },
        "id": "ORyOXAnL5LQS",
        "outputId": "57dc7444-fef0-47b5-cc44-f399cf69eea6"
      },
      "outputs": [
        {
          "output_type": "stream",
          "name": "stdout",
          "text": [
            "5\n",
            "*****\n",
            "****\n",
            "***\n",
            "**\n",
            "*\n"
          ]
        }
      ],
      "source": [
        "n=int(input())\n",
        "for i in range(n):\n",
        "  for j in range(n-i):\n",
        "    print('*',end='')\n",
        "  print()#這可以換行"
      ]
    },
    {
      "cell_type": "code",
      "source": [
        "n=int(input())\n",
        "for i in range(n):\n",
        "  for j in range(n-i-1):\n",
        "    print(' ',end='')\n",
        "  for k in range(i+1):\n",
        "    print('*',end='')\n",
        "  print()#這可以換行"
      ],
      "metadata": {
        "colab": {
          "base_uri": "https://localhost:8080/"
        },
        "id": "jfn7bo1f5QDM",
        "outputId": "384682a9-46f7-4ac3-b460-b487c94f44b0"
      },
      "execution_count": null,
      "outputs": [
        {
          "output_type": "stream",
          "name": "stdout",
          "text": [
            "5\n",
            "    *\n",
            "   **\n",
            "  ***\n",
            " ****\n",
            "*****\n"
          ]
        }
      ]
    },
    {
      "cell_type": "code",
      "source": [
        "def get_distance(point1,point2):\n",
        "  dis=((point1[0]-point2[0])**2 + (point1[1]-point2[1])**2)**(1/2)\n",
        "  return dis\n",
        "get_distance([2,4],[3,5])"
      ],
      "metadata": {
        "id": "uzezgsqE5QK7"
      },
      "execution_count": null,
      "outputs": []
    },
    {
      "cell_type": "code",
      "source": [
        "import random as r\n",
        "row=int(input())\n",
        "col=int(input())\n",
        "matrix = [[0 for _ in range(row)] for _ in range(col)]\n",
        "\n",
        "print(matrix)\n",
        "for i in range(col):\n",
        "  for j in range(row):\n",
        "    matrix[i][j] = r.randint(1,20)\n",
        "print(matrix)"
      ],
      "metadata": {
        "colab": {
          "base_uri": "https://localhost:8080/"
        },
        "id": "YMVth8lT5QS7",
        "outputId": "a4dc4dfb-6f6d-41b7-8a6a-2892f5f21bc8"
      },
      "execution_count": null,
      "outputs": [
        {
          "output_type": "stream",
          "name": "stdout",
          "text": [
            "4\n",
            "3\n",
            "[[0, 0, 0, 0], [0, 0, 0, 0], [0, 0, 0, 0]]\n",
            "[[19, 4, 2, 16], [12, 19, 15, 15], [9, 10, 2, 10]]\n"
          ]
        }
      ]
    }
  ]
}