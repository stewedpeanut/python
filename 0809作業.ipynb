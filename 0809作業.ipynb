{
  "nbformat": 4,
  "nbformat_minor": 0,
  "metadata": {
    "colab": {
      "name": "0809作業.ipynb",
      "provenance": [],
      "collapsed_sections": [],
      "mount_file_id": "1waxsaRDeo_Em3R_d4cMcq3yQ0A1nZ-rp",
      "authorship_tag": "ABX9TyPVJKpNbNvgfXqXM1YMOcPe",
      "include_colab_link": true
    },
    "kernelspec": {
      "name": "python3",
      "display_name": "Python 3"
    },
    "language_info": {
      "name": "python"
    }
  },
  "cells": [
    {
      "cell_type": "markdown",
      "metadata": {
        "id": "view-in-github",
        "colab_type": "text"
      },
      "source": [
        "<a href=\"https://colab.research.google.com/github/stewedpeanut/python/blob/main/0809%E4%BD%9C%E6%A5%AD.ipynb\" target=\"_parent\"><img src=\"https://colab.research.google.com/assets/colab-badge.svg\" alt=\"Open In Colab\"/></a>"
      ]
    },
    {
      "cell_type": "code",
      "execution_count": null,
      "metadata": {
        "id": "EUqtGiOoem7i"
      },
      "outputs": [],
      "source": [
        "import numpy as np\n",
        "import pandas as pd\n",
        "import matplotlib.pyplot as mpl\n",
        "from sklearn import datasets\n",
        "from sklearn.model_selection import train_test_split \n",
        "from sklearn.linear_model import LinearRegression \n",
        "from sklearn.metrics import mean_squared_error\n",
        "path='/content/drive/MyDrive/暑密班/Salary_Data.csv'\n",
        "dat = pd.read_csv(path)\n"
      ]
    },
    {
      "cell_type": "code",
      "source": [
        "x=dat['YearsExperience']\n",
        "y=dat['Salary']\n",
        "\n"
      ],
      "metadata": {
        "id": "1f073XfxNvJg"
      },
      "execution_count": null,
      "outputs": []
    },
    {
      "cell_type": "markdown",
      "source": [
        "# 新增區段"
      ],
      "metadata": {
        "id": "buto3hCMoK96"
      }
    },
    {
      "cell_type": "code",
      "source": [
        "#資料清洗https://ithelp.ithome.com.tw/articles/10240494"
      ],
      "metadata": {
        "id": "paImVJhY2_rS"
      },
      "execution_count": null,
      "outputs": []
    },
    {
      "cell_type": "code",
      "source": [
        "from sklearn.preprocessing import StandardScaler\n",
        "scaler=StandardScaler()\n",
        "X=np.array(x).reshape(-1,1)\n",
        "Y=np.array(y).reshape(-1,1)\n",
        "train_x,test_x,train_y,test_y= train_test_split(X,Y,test_size=0.2,random_state=10)\n",
        "train_x=scaler.fit_transform(train_x)\n",
        "train_y=scaler.fit_transform(train_y)"
      ],
      "metadata": {
        "id": "N5XWG3MkoyJS"
      },
      "execution_count": null,
      "outputs": []
    },
    {
      "cell_type": "code",
      "source": [
        "regression=LinearRegression()\n",
        "regression.fit(train_x,train_y)\n",
        "test_x=scaler.transform(test_x)\n",
        "test_y=scaler.transform(test_y)\n",
        "y_p=regression.predict(test_x)\n"
      ],
      "metadata": {
        "id": "LwSQRZIO0yb6"
      },
      "execution_count": null,
      "outputs": []
    },
    {
      "cell_type": "code",
      "source": [
        "print(f\"MSE={mean_squared_error(y_p,test_y)}\")\n"
      ],
      "metadata": {
        "colab": {
          "base_uri": "https://localhost:8080/"
        },
        "id": "Zy503_RV1RV7",
        "outputId": "786f262a-1eca-426b-8cd7-eb43f590c064"
      },
      "execution_count": null,
      "outputs": [
        {
          "output_type": "stream",
          "name": "stdout",
          "text": [
            "MSE=5.962984934024756\n"
          ]
        }
      ]
    },
    {
      "cell_type": "code",
      "source": [
        ""
      ],
      "metadata": {
        "id": "dPNya-72xums"
      },
      "execution_count": null,
      "outputs": []
    },
    {
      "cell_type": "code",
      "source": [
        "Y_hat = regression.predict(scaler.transform(X))\n",
        "Y_inv_hat = scaler.inverse_transform(Y_hat)\n"
      ],
      "metadata": {
        "id": "nM5OugFanMxg",
        "colab": {
          "base_uri": "https://localhost:8080/",
          "height": 265
        },
        "outputId": "051a8dac-2376-4129-bdd3-506abf762965"
      },
      "execution_count": 37,
      "outputs": [
        {
          "output_type": "display_data",
          "data": {
            "text/plain": [
              "<Figure size 432x288 with 1 Axes>"
            ],
            "image/png": "[encoded data removed]"
          },
          "metadata": {
            "needs_background": "light"
          }
        }
      ]
    },
    {
      "cell_type": "code",
      "source": [
        "mpl.scatter(X, Y, s =3)\n",
        "mpl.plot(X, Y_inv_hat, color=\"red\")\n",
        "mpl.show()"
      ],
      "metadata": {
        "id": "Qs43usgDx6kS"
      },
      "execution_count": null,
      "outputs": []
    }
  ]
}