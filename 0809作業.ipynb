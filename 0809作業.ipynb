{
  "nbformat": 4,
  "nbformat_minor": 0,
  "metadata": {
    "colab": {
      "name": "0809作業.ipynb",
      "provenance": [],
      "collapsed_sections": [],
      "mount_file_id": "1waxsaRDeo_Em3R_d4cMcq3yQ0A1nZ-rp",
      "authorship_tag": "ABX9TyMH/VHTfAvy5M+CBnDBJKrG",
      "include_colab_link": true
    },
    "kernelspec": {
      "name": "python3",
      "display_name": "Python 3"
    },
    "language_info": {
      "name": "python"
    }
  },
  "cells": [
    {
      "cell_type": "markdown",
      "metadata": {
        "id": "view-in-github",
        "colab_type": "text"
      },
      "source": [
        "<a href=\"https://colab.research.google.com/github/stewedpeanut/python/blob/main/0809%E4%BD%9C%E6%A5%AD.ipynb\" target=\"_parent\"><img src=\"https://colab.research.google.com/assets/colab-badge.svg\" alt=\"Open In Colab\"/></a>"
      ]
    },
    {
      "cell_type": "code",
      "execution_count": null,
      "metadata": {
        "id": "EUqtGiOoem7i"
      },
      "outputs": [],
      "source": [
        "import numpy as np\n",
        "import pandas as pd\n",
        "import matplotlib.pyplot as mpl\n",
        "from sklearn import datasets\n",
        "from sklearn.model_selection import train_test_split \n",
        "from sklearn.linear_model import LinearRegression \n",
        "from sklearn.metrics import mean_squared_error\n",
        "path='/content/drive/MyDrive/暑密班/Salary_Data.csv'\n",
        "dat = pd.read_csv(path)\n"
      ]
    },
    {
      "cell_type": "code",
      "source": [
        "x=dat['YearsExperience']\n",
        "y=dat['Salary']\n",
        "x=np.array(x)\n",
        "y=np.array(y)\n",
        "y.shape\n",
        "x=x.reshape(-1,1)\n",
        "y=y.reshape(-1,1)\n",
        "\n",
        "\n"
      ],
      "metadata": {
        "id": "1f073XfxNvJg"
      },
      "execution_count": null,
      "outputs": []
    },
    {
      "cell_type": "markdown",
      "source": [
        "# 新增區段"
      ],
      "metadata": {
        "id": "buto3hCMoK96"
      }
    },
    {
      "cell_type": "code",
      "source": [
        "#資料清洗https://ithelp.ithome.com.tw/articles/10240494"
      ],
      "metadata": {
        "id": "paImVJhY2_rS"
      },
      "execution_count": null,
      "outputs": []
    },
    {
      "cell_type": "code",
      "source": [
        "from sklearn.preprocessing import StandardScaler\n",
        "scaler=StandardScaler()\n",
        "x=scaler.fit_transform(x)\n",
        "y=scaler.fit_transform(y)\n",
        "train_x,test_x,train_y,test_y= train_test_split(x,y,test_size=0.2,random_state=10)\n",
        "x.shape\n",
        "y.shape\n",
        "\n"
      ],
      "metadata": {
        "id": "N5XWG3MkoyJS",
        "colab": {
          "base_uri": "https://localhost:8080/"
        },
        "outputId": "3ea2ca1e-2c66-4a92-a754-82422a2e768f"
      },
      "execution_count": null,
      "outputs": [
        {
          "output_type": "execute_result",
          "data": {
            "text/plain": [
              "(30, 1)"
            ]
          },
          "metadata": {},
          "execution_count": 29
        }
      ]
    },
    {
      "cell_type": "code",
      "source": [
        "regression=LinearRegression()\n",
        "regression.fit(train_x,train_y)\n",
        "y_p=regression.predict(test_x)\n",
        "y_hat=regression.predict(x)"
      ],
      "metadata": {
        "id": "LwSQRZIO0yb6"
      },
      "execution_count": null,
      "outputs": []
    },
    {
      "cell_type": "code",
      "source": [
        "print(f\"MSE={mean_squared_error(y_p,test_y)}\")\n"
      ],
      "metadata": {
        "colab": {
          "base_uri": "https://localhost:8080/"
        },
        "id": "Zy503_RV1RV7",
        "outputId": "37032543-be80-4b17-8380-56237e52571c"
      },
      "execution_count": null,
      "outputs": [
        {
          "output_type": "stream",
          "name": "stdout",
          "text": [
            "MSE=0.013469483940791912\n"
          ]
        }
      ]
    },
    {
      "cell_type": "code",
      "source": [
        "mpl.scatter(x[:, 0], y, s = 3)\n",
        "mpl.plot(x,y_hat, color = 'red')\n",
        "mpl.show()"
      ],
      "metadata": {
        "id": "nM5OugFanMxg",
        "colab": {
          "base_uri": "https://localhost:8080/",
          "height": 265
        },
        "outputId": "92a8050b-1fb9-45a9-976c-fa8c15d5f1b3"
      },
      "execution_count": null,
      "outputs": [
        {
          "output_type": "display_data",
          "data": {
            "text/plain": [
              "<Figure size 432x288 with 1 Axes>"
            ],
            "image/png": "[encoded data removed]"
          },
          "metadata": {
            "needs_background": "light"
          }
        }
      ]
    }
  ]
}