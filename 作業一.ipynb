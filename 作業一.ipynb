{
 "cells": [
  {
   "cell_type": "code",
   "execution_count": 2,
   "id": "cd0d8f75",
   "metadata": {},
   "outputs": [
    {
     "name": "stdout",
     "output_type": "stream",
     "text": [
      "213 lab is in serenity\n"
     ]
    }
   ],
   "source": []
  },
  {
   "cell_type": "code",
   "execution_count": 6,
   "id": "20b33b2d",
   "metadata": {},
   "outputs": [
    {
     "name": "stdout",
     "output_type": "stream",
     "text": [
      "10\n",
      "3\n",
      "answer is 3.33\n"
     ]
    }
   ],
   "source": [
    "n1=int(input())\n",
    "n2=int(input())\n",
    "try:\n",
    "    ans=n1/n2\n",
    "    print(f\"answer is {ans:.3}\")\n",
    "except ValueError:\n",
    "    print('請輸入正確數字格式')"
   ]
  },
  {
   "cell_type": "code",
   "execution_count": 12,
   "id": "f9e1eafc",
   "metadata": {},
   "outputs": [
    {
     "name": "stdout",
     "output_type": "stream",
     "text": [
      "9\n",
      "9是3的倍數\n"
     ]
    }
   ],
   "source": [
    "n=int(input())\n",
    "if n%2==0 and n%3==0:\n",
    "    print(f\"{n}是6的倍數\")\n",
    "elif n%3==0:\n",
    "    print(f\"{n}是3的倍數\")\n",
    "elif n%2==0:\n",
    "    print(f\"{n}是2的倍數\")\n",
    "    "
   ]
  },
  {
   "cell_type": "code",
   "execution_count": 13,
   "id": "2bb62594",
   "metadata": {},
   "outputs": [
    {
     "name": "stdout",
     "output_type": "stream",
     "text": [
      "25000\n",
      "6時56分40秒\n"
     ]
    }
   ],
   "source": [
    "n=int(input())\n",
    "hour=n//3600\n",
    "minute=n%3600//60\n",
    "second=n%3600%60\n",
    "print(f\"{hour}時{minute}分{second}秒\")"
   ]
  },
  {
   "cell_type": "code",
   "execution_count": 26,
   "id": "01a32c83",
   "metadata": {},
   "outputs": [
    {
     "name": "stdout",
     "output_type": "stream",
     "text": [
      "輸入偶數:11\n",
      "請輸入偶數\n"
     ]
    }
   ],
   "source": [
    "i=1\n",
    "n=int(input('輸入偶數:'))\n",
    "if n%2==0:\n",
    "    while i <= n-1:\n",
    "        print(i,end=' ')\n",
    "        i+=2  \n",
    "else:\n",
    "    print('請輸入偶數')"
   ]
  },
  {
   "cell_type": "code",
   "execution_count": null,
   "id": "f4adca4f",
   "metadata": {},
   "outputs": [],
   "source": []
  }
 ],
 "metadata": {
  "kernelspec": {
   "display_name": "Python 3",
   "language": "python",
   "name": "python3"
  },
  "language_info": {
   "codemirror_mode": {
    "name": "ipython",
    "version": 3
   },
   "file_extension": ".py",
   "mimetype": "text/x-python",
   "name": "python",
   "nbconvert_exporter": "python",
   "pygments_lexer": "ipython3",
   "version": "3.8.8"
  }
 },
 "nbformat": 4,
 "nbformat_minor": 5
}
