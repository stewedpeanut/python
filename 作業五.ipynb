{
  "nbformat": 4,
  "nbformat_minor": 0,
  "metadata": {
    "colab": {
      "name": "Untitled1.ipynb",
      "provenance": [],
      "mount_file_id": "1gptl3De2xoobijS93TVWtwp-F-NPaXy2",
      "authorship_tag": "ABX9TyNW1EY5b5dROprLEBz5jX3E",
      "include_colab_link": true
    },
    "kernelspec": {
      "name": "python3",
      "display_name": "Python 3"
    },
    "language_info": {
      "name": "python"
    }
  },
  "cells": [
    {
      "cell_type": "markdown",
      "metadata": {
        "id": "view-in-github",
        "colab_type": "text"
      },
      "source": [
        "<a href=\"https://colab.research.google.com/github/stewedpeanut/python/blob/main/hw5.ipynb\" target=\"_parent\"><img src=\"https://colab.research.google.com/assets/colab-badge.svg\" alt=\"Open In Colab\"/></a>"
      ]
    },
    {
      "cell_type": "code",
      "execution_count": null,
      "metadata": {
        "id": "VT9GfJqajoxE"
      },
      "outputs": [],
      "source": [
        "import numpy as np\n",
        "import pandas as pd\n",
        "import matplotlib.pyplot as mpl\n",
        "from sklearn import datasets\n",
        "from sklearn.model_selection import train_test_split \n",
        "from sklearn.linear_model import LinearRegression \n",
        "from sklearn.metrics import mean_squared_error\n",
        "path='/content/drive/MyDrive/暑密班/advertising.csv'\n",
        "dat = pd.read_csv(path)"
      ]
    },
    {
      "cell_type": "code",
      "source": [
        "from sklearn.model_selection import train_test_split\n",
        "from sklearn.linear_model import LogisticRegression\n",
        "from sklearn.preprocessing import StandardScaler\n",
        "from sklearn.metrics import confusion_matrix"
      ],
      "metadata": {
        "id": "nM5OugFanMxg"
      },
      "execution_count": null,
      "outputs": []
    },
    {
      "cell_type": "code",
      "source": [
        "#用套件做logistic\n",
        "x = dat[[\"Daily Time Spent on Site\", \"Age\", \"Area Income\", \"Daily Internet Usage\", \"Male\"]]\n",
        "y = dat[\"Clicked on Ad\"]\n",
        "\n",
        "scaler = StandardScaler() #實體化\n",
        "sc_x = scaler.fit_transform(x) #fit(取得期望值標準差)並標準化資料\n",
        "\n",
        "train_x, test_x, train_y, test_y = train_test_split(sc_x, y, test_size=0.2, random_state=10)\n",
        "logistic = LogisticRegression()\n",
        "logistic.fit(train_x,train_y)\n",
        "predictions = logistic.predict(test_x)\n",
        "print(predictions)\n",
        "print(y)"
      ],
      "metadata": {
        "colab": {
          "base_uri": "https://localhost:8080/"
        },
        "id": "KLzAhk3LnFKa",
        "outputId": "2da1e8c4-9a68-4089-e5e5-0e9e3d492148"
      },
      "execution_count": null,
      "outputs": [
        {
          "output_type": "stream",
          "name": "stdout",
          "text": [
            "[1 1 0 0 1 1 0 0 0 0 0 1 1 1 0 0 1 0 0 0 1 0 1 1 0 1 1 1 0 0 1 0 1 1 0 0 0\n",
            " 0 0 1 0 1 0 1 0 0 1 1 0 1 1 1 0 1 0 1 0 0 1 1 0 1 0 0 1 1 1 0 0 1 1 0 0 1\n",
            " 0 1 1 0 1 0 1 0 1 0 1 1 0 1 1 1 0 1 1 0 1 0 0 0 1 0 1 0 1 1 0 0 0 0 1 1 1\n",
            " 1 0 0 0 1 1 1 0 0 0 0 1 0 1 1 0 0 1 1 1 0 0 1 0 0 1 1 1 0 1 1 0 1 1 1 0 0\n",
            " 0 1 0 1 1 0 0 1 0 1 1 0 1 0 0 1 1 1 1 0 1 0 1 1 0 1 1 0 0 1 1 0 1 0 1 0 0\n",
            " 1 0 0 1 0 1 1 1 1 1 0 1 0 1 1]\n",
            "0      0\n",
            "1      0\n",
            "2      0\n",
            "3      0\n",
            "4      0\n",
            "      ..\n",
            "995    1\n",
            "996    1\n",
            "997    1\n",
            "998    0\n",
            "999    1\n",
            "Name: Clicked on Ad, Length: 1000, dtype: int64\n"
          ]
        }
      ]
    },
    {
      "cell_type": "code",
      "source": [
        "import pandas as pd\n",
        "import matplotlib.pyplot as plt\n",
        "import seaborn as sns\n",
        "\n",
        "predictions=np.array(predictions)\n",
        "test_y=np.array(test_y)\n",
        "(predictions == test_y).sum() #=(只有1和0的array).sum() = array裡面有幾個1\n"
      ],
      "metadata": {
        "colab": {
          "base_uri": "https://localhost:8080/"
        },
        "id": "2BWNsdxspB3R",
        "outputId": "7169d173-85fa-4787-dae8-08a7a55ce149"
      },
      "execution_count": null,
      "outputs": [
        {
          "output_type": "execute_result",
          "data": {
            "text/plain": [
              "189"
            ]
          },
          "metadata": {},
          "execution_count": 11
        }
      ]
    }
  ]
}
