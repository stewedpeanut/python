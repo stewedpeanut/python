{
 "cells": [
  {
   "cell_type": "code",
   "execution_count": 10,
   "id": "cd690200",
   "metadata": {},
   "outputs": [
    {
     "name": "stdout",
     "output_type": "stream",
     "text": [
      "[[ 21  64]\n",
      " [ 42 128]]\n"
     ]
    }
   ],
   "source": [
    "import numpy as np\n",
    "a=[[2,3,5],[5,7,8]]\n",
    "a=np.array(a)\n",
    "b=[[1,2],[3,10],[2,6]]\n",
    "b=np.array(b)\n",
    "print(np.matmul(a,b))"
   ]
  },
  {
   "cell_type": "code",
   "execution_count": 17,
   "id": "cf4a2929",
   "metadata": {},
   "outputs": [
    {
     "name": "stdout",
     "output_type": "stream",
     "text": [
      "[ 98 100  96]\n",
      "[743 779 858]\n"
     ]
    }
   ],
   "source": [
    "ma=[[32,57,89,82,98,57,88,56,93,91],\n",
    "    [88,93,20,70,56,83,92,100,80,97],\n",
    "    [82,75,83,95,96,90,77,82,90,88]]\n",
    "print(np.max(ma,axis=1))\n",
    "print(np.sum(ma,axis=1))"
   ]
  },
  {
   "cell_type": "code",
   "execution_count": null,
   "id": "93bc79ec",
   "metadata": {},
   "outputs": [],
   "source": []
  }
 ],
 "metadata": {
  "kernelspec": {
   "display_name": "Python 3",
   "language": "python",
   "name": "python3"
  },
  "language_info": {
   "codemirror_mode": {
    "name": "ipython",
    "version": 3
   },
   "file_extension": ".py",
   "mimetype": "text/x-python",
   "name": "python",
   "nbconvert_exporter": "python",
   "pygments_lexer": "ipython3",
   "version": "3.8.8"
  }
 },
 "nbformat": 4,
 "nbformat_minor": 5
}
